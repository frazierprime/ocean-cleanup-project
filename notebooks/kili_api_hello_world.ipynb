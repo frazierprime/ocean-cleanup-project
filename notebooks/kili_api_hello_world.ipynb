{
 "cells": [
  {
   "cell_type": "code",
   "execution_count": null,
   "id": "2ff3518f-d03b-43b1-9758-2d44d69e9385",
   "metadata": {},
   "outputs": [],
   "source": [
    "from kili.client import Kili"
   ]
  },
  {
   "cell_type": "code",
   "execution_count": null,
   "id": "9c997aff-cf41-45cb-97f1-1a487afae3af",
   "metadata": {},
   "outputs": [],
   "source": [
    "\"\"\"\n",
    "# kili api \"hello world\".\n",
    "# running this cell will create a new \n",
    "kili client, and can be used to test your api key.\n",
    "\"\"\"\n",
    "kili = Kili()"
   ]
  },
  {
   "cell_type": "code",
   "execution_count": null,
   "id": "a735b4aa-d005-409a-a9f3-6d2057e17663",
   "metadata": {},
   "outputs": [],
   "source": []
  }
 ],
 "metadata": {
  "kernelspec": {
   "display_name": "ocean-cleanup",
   "language": "python",
   "name": "ocean-cleanup"
  },
  "language_info": {
   "codemirror_mode": {
    "name": "ipython",
    "version": 3
   },
   "file_extension": ".py",
   "mimetype": "text/x-python",
   "name": "python",
   "nbconvert_exporter": "python",
   "pygments_lexer": "ipython3",
   "version": "3.9.11"
  }
 },
 "nbformat": 4,
 "nbformat_minor": 5
}
